{
  "nbformat": 4,
  "nbformat_minor": 0,
  "metadata": {
    "colab": {
      "provenance": []
    },
    "kernelspec": {
      "name": "python3",
      "display_name": "Python 3"
    },
    "language_info": {
      "name": "python"
    }
  },
  "cells": [
    {
      "cell_type": "code",
      "execution_count": null,
      "metadata": {
        "colab": {
          "base_uri": "https://localhost:8080/"
        },
        "id": "LihHxrMzkYd7",
        "outputId": "0e111cca-2e75-46ab-9408-70125ff96ce1"
      },
      "outputs": [
        {
          "output_type": "stream",
          "name": "stdout",
          "text": [
            "Drive already mounted at /content/drive; to attempt to forcibly remount, call drive.mount(\"/content/drive\", force_remount=True).\n"
          ]
        }
      ],
      "source": [
        "from google.colab import drive\n",
        "drive.mount('/content/drive')\n",
        "#Since I use Colab, I want to export pickle to my Drive"
      ]
    },
    {
      "cell_type": "code",
      "source": [
        "sparse_matrix_pickle_path = '/content/drive/MyDrive/AnimeRecommenderPickle/UserAnimeList_Pivot.pkl' #After training, you can delete this\n",
        "feature_sparse_mat_path = '/content/drive/MyDrive/AnimeRecommenderPickle/UserAnime_Pivot.pkl'\n",
        "anime_db_parquet_path = '/content/drive/MyDrive/AnimeRecommenderPickle/anime_db.parquet' #Anime details\n",
        "trained_model_path = '/content/drive/MyDrive/AnimeRecommenderPickle/trained_model.pkl'\n",
        "anime_index_path = '/content/drive/MyDrive/AnimeRecommenderPickle/anime_index.pkl' #Needed for inference and convert return features to id"
      ],
      "metadata": {
        "id": "85s5hX6OBjMp"
      },
      "execution_count": null,
      "outputs": []
    },
    {
      "cell_type": "code",
      "source": [
        "\n",
        "import scipy, pickle\n",
        "from scipy.sparse import csr_matrix\n",
        "import pandas as pd\n",
        "import numpy as np\n",
        "from pandas.arrays import SparseArray\n",
        "from sklearn.neighbors import KNeighborsClassifier, NearestNeighbors\n",
        "\n",
        "with open(sparse_matrix_pickle_path, 'rb') as f:\n",
        "  sparse_matrix = pickle.load(f)\n",
        "\n",
        "%time sparse_matrix = sparse_matrix.fillna(0)"
      ],
      "metadata": {
        "colab": {
          "base_uri": "https://localhost:8080/"
        },
        "id": "VA748CxNks86",
        "outputId": "95fe2011-c8cc-474a-abec-a325f533cf8d"
      },
      "execution_count": null,
      "outputs": [
        {
          "output_type": "stream",
          "name": "stdout",
          "text": [
            "CPU times: user 48.4 s, sys: 6.03 s, total: 54.5 s\n",
            "Wall time: 55 s\n"
          ]
        }
      ]
    },
    {
      "cell_type": "code",
      "source": [
        "import gc\n",
        "gc.collect()\n",
        "%time csr_mat = csr_matrix(sparse_matrix.sparse.to_dense())"
      ],
      "metadata": {
        "id": "XaELG69Qp2De"
      },
      "execution_count": null,
      "outputs": []
    },
    {
      "cell_type": "code",
      "source": [
        "#Train the model\n",
        "#For sparse matrix only brute force is available\n",
        "model_knn = NearestNeighbors(metric='cosine', algorithm='brute', n_neighbors=20, n_jobs=-1)\n",
        "model_knn.fit(csr_mat)"
      ],
      "metadata": {
        "id": "T2NLz8wV3Db2"
      },
      "execution_count": null,
      "outputs": []
    },
    {
      "cell_type": "code",
      "source": [
        "with open('UserAnime_Pivot.pkl', 'wb') as f:\n",
        "  pickle.dump(csr_mat, f)\n",
        "\n",
        "!cp \"UserAnime_Pivot.pkl\" \"/content/drive/MyDrive/AnimeRecommenderPickle/\""
      ],
      "metadata": {
        "id": "rXBYbMP1-ema"
      },
      "execution_count": null,
      "outputs": []
    },
    {
      "cell_type": "code",
      "source": [
        "with open('anime_index.pkl', 'wb') as f:\n",
        "  pickle.dump(sparse_matrix.index, f)\n",
        "\n",
        "!cp \"anime_index.pkl\" \"/content/drive/MyDrive/AnimeRecommenderPickle/\""
      ],
      "metadata": {
        "id": "0nBN46AZ3_TL"
      },
      "execution_count": null,
      "outputs": []
    },
    {
      "cell_type": "code",
      "source": [],
      "metadata": {
        "id": "k-4UzzIR8ROS"
      },
      "execution_count": null,
      "outputs": []
    },
    {
      "cell_type": "code",
      "source": [
        "gc.collect()\n",
        "with open(trained_model_path, 'wb') as f:\n",
        "  pickle.dump(model_knn, f)"
      ],
      "metadata": {
        "id": "nYMcxJyI1VgW"
      },
      "execution_count": null,
      "outputs": []
    },
    {
      "cell_type": "code",
      "source": [
        "with open(anime_index_path, 'rb') as f:\n",
        "  anime_index = pickle.load(f)\n",
        "\n",
        "with open(feature_sparse_mat_path, 'rb') as f:\n",
        "  features_mat = pickle.load(f)\n",
        "\n",
        "with open(trained_model_path, 'rb') as f:\n",
        "  trained_model = pickle.load(f)\n",
        "\n",
        "def recommend_anime(mal_id: str):\n",
        "  mal_id = int(mal_id)\n",
        "\n",
        "  matrix_index = anime_index.get_loc(mal_id)\n",
        "\n",
        "  anime_features = features_mat[matrix_index, :]\n",
        "  #Inference\n",
        "  neighbors = model_knn.kneighbors(anime_features, return_distance=False)\n",
        "\n",
        "  #Convert back to MAL ID\n",
        "  mal_ids = anime_index[neighbors.ravel()]\n",
        "\n",
        "  mal_ids = [i for i in mal_ids if i != mal_id]\n",
        "  return mal_ids\n",
        "\n",
        "recommend_anime(51179)"
      ],
      "metadata": {
        "id": "cHszuGjYn0BY"
      },
      "execution_count": null,
      "outputs": []
    },
    {
      "cell_type": "code",
      "source": [
        "for item in anime_db[anime_db['anime_id'] == 2366]['studios']:\n",
        "  print(item)"
      ],
      "metadata": {
        "id": "4dh_v5cbkJzW"
      },
      "execution_count": null,
      "outputs": []
    },
    {
      "cell_type": "code",
      "source": [
        "anime_db = pd.read_parquet(anime_db_parquet_path)\n",
        "def get_anime(mal_id):\n",
        "  mal_id = int(mal_id)\n",
        "  return anime_db[anime_db['anime_id'] == mal_id].iloc[0, : ]\n",
        "\n",
        "def get_animes(mal_ids):\n",
        "  return anime_db.set_index('anime_id').loc[mal_ids, :]\n",
        "\n",
        "def search_anime(query_str):\n",
        "  query_str = query_str.lower()\n",
        "  query_df = anime_db[anime_db['title'].str.lower().str.contains(query_str)]\n",
        "  return query_df.sort_values('popularity_rank', ascending=True)\n",
        "\n",
        "get_anime(40221)"
      ],
      "metadata": {
        "id": "YHFVjemuKyMp"
      },
      "execution_count": null,
      "outputs": []
    }
  ]
}